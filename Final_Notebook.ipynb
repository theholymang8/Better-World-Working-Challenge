{
  "nbformat": 4,
  "nbformat_minor": 0,
  "metadata": {
    "colab": {
      "name": "Final Notebook.ipynb",
      "provenance": [],
      "collapsed_sections": [],
      "mount_file_id": "1bVYBCYNF6RGfvjHv1kka_G44foUVsMQg",
      "authorship_tag": "ABX9TyM9cqnmruYFru3WZZsjisCI",
      "include_colab_link": true
    },
    "kernelspec": {
      "name": "python3",
      "display_name": "Python 3"
    },
    "language_info": {
      "name": "python"
    }
  },
  "cells": [
    {
      "cell_type": "markdown",
      "metadata": {
        "id": "view-in-github",
        "colab_type": "text"
      },
      "source": [
        "<a href=\"https://colab.research.google.com/github/theholymang8/Better-World-Working-Challenge/blob/main/Final_Notebook.ipynb\" target=\"_parent\"><img src=\"https://colab.research.google.com/assets/colab-badge.svg\" alt=\"Open In Colab\"/></a>"
      ]
    },
    {
      "cell_type": "code",
      "execution_count": null,
      "metadata": {
        "id": "6YiKw3K8HpNf"
      },
      "outputs": [],
      "source": [
        "#  !pip install folium\n",
        "#  !pip install rasterio\n",
        "#  !pip install pystac-client\n",
        "#  !pip install planetary-computer\n",
        "#  !pip install fsspec\n",
        "#  !pip install requests\n",
        "#  !pip install aiohttp\n",
        "#  !pip install zarr\n",
        "#  !pip install xarray[complete]"
      ]
    },
    {
      "cell_type": "code",
      "source": [
        "# Supress Warnings \n",
        "import warnings\n",
        "warnings.filterwarnings('ignore')\n",
        "\n",
        "# Import common GIS tools\n",
        "import numpy as np\n",
        "import xarray as xr\n",
        "import matplotlib.pyplot as plt\n",
        "import rasterio.features\n",
        "import folium\n",
        "import math\n",
        "\n",
        "# Import Planetary Computer tools\n",
        "import pystac_client\n",
        "import planetary_computer"
      ],
      "metadata": {
        "id": "_E-7U4KIH3at"
      },
      "execution_count": null,
      "outputs": []
    },
    {
      "cell_type": "code",
      "source": [
        "# Greater Sydney, NSW\n",
        "region_name = 'Greater Sydney, NSW'\n",
        "min_lon, min_lat = (150.15, -34.25)  # Lower-left corner\n",
        "max_lon, max_lat = (151.15, -33.25)  # Upper-right corner\n",
        "bbox = (min_lon, min_lat, max_lon, max_lat)\n",
        "latitude = (min_lat, max_lat)\n",
        "longitude = (min_lon, max_lon)"
      ],
      "metadata": {
        "id": "W8fwWGNJH7Wm"
      },
      "execution_count": null,
      "outputs": []
    },
    {
      "cell_type": "code",
      "source": [
        "import pystac\n",
        "collection = pystac.read_file(\"https://planetarycomputer.microsoft.com/api/stac/v1/collections/terraclimate\")\n",
        "asset = collection.assets[\"zarr-https\"]"
      ],
      "metadata": {
        "id": "4UYA0fN2H_Kj"
      },
      "execution_count": null,
      "outputs": []
    },
    {
      "cell_type": "code",
      "source": [
        "import fsspec\n",
        "import xarray as xr\n",
        "\n",
        "store = fsspec.get_mapper(asset.href)\n",
        "data = xr.open_zarr(store, **asset.extra_fields[\"xarray:open_kwargs\"])"
      ],
      "metadata": {
        "id": "CT-JbvImIAL-"
      },
      "execution_count": null,
      "outputs": []
    },
    {
      "cell_type": "code",
      "source": [
        "clipped_data = data.sel(lon=slice(min_lon,max_lon),lat=slice(max_lat,min_lat),time=slice('2015-01-01','2019-12-31'))"
      ],
      "metadata": {
        "id": "ky_H--hRIAUd"
      },
      "execution_count": null,
      "outputs": []
    },
    {
      "cell_type": "code",
      "source": [
        "parsed_data = clipped_data[['tmax', 'tmin', 'ppt', 'soil']]\n"
      ],
      "metadata": {
        "id": "T0e9-l63IAXf"
      },
      "execution_count": null,
      "outputs": []
    },
    {
      "cell_type": "code",
      "source": [
        "import pandas as pd"
      ],
      "metadata": {
        "id": "0TdwLYerIIL2"
      },
      "execution_count": null,
      "outputs": []
    },
    {
      "cell_type": "code",
      "source": [
        "data_path = 'drive/MyDrive/Biodiversity Dataset/data-created-with-terraclimate.csv'"
      ],
      "metadata": {
        "id": "TZb9OTs3IIOi"
      },
      "execution_count": null,
      "outputs": []
    },
    {
      "cell_type": "code",
      "source": [
        "gen_df = pd.read_csv(data_path)\n",
        "gen_df"
      ],
      "metadata": {
        "colab": {
          "base_uri": "https://localhost:8080/",
          "height": 424
        },
        "id": "ewrThOMsJN80",
        "outputId": "4e086ed9-9e19-479c-b80e-6c774814dc2c"
      },
      "execution_count": null,
      "outputs": [
        {
          "output_type": "execute_result",
          "data": {
            "text/plain": [
              "      max_of_max_temp  mean_of_min_temp  min_of_min_temp  \\\n",
              "0           30.299999              12.2              4.3   \n",
              "1           31.299999              12.9              4.5   \n",
              "2           31.700001              10.6              2.5   \n",
              "3           31.700001              10.6              2.5   \n",
              "4           31.900000              12.2              3.8   \n",
              "...               ...               ...              ...   \n",
              "9413        27.400000               7.1              0.0   \n",
              "9414        30.400000              13.1              5.2   \n",
              "9415        31.700000              10.6              2.5   \n",
              "9416        28.200000               8.3              1.2   \n",
              "9417        30.800000              13.1              5.0   \n",
              "\n",
              "      mean_accumulated_precipitation  mean_soil_moisture   index  \n",
              "0                          85.199997           61.200001     935  \n",
              "1                          67.000000           53.299999     941  \n",
              "2                          68.000000           38.000000     944  \n",
              "3                          68.000000           38.000000     945  \n",
              "4                          63.099998           46.400002     980  \n",
              "...                              ...                 ...     ...  \n",
              "9413                       73.400000           65.100000  193471  \n",
              "9414                       90.400000           72.600000  193473  \n",
              "9415                       68.000000           38.000000  193476  \n",
              "9416                       91.100000           62.700000  193477  \n",
              "9417                       84.000000           65.500000  193735  \n",
              "\n",
              "[9418 rows x 6 columns]"
            ],
            "text/html": [
              "\n",
              "  <div id=\"df-6bc74c65-2cc9-41e8-ab70-63455c9d4b0a\">\n",
              "    <div class=\"colab-df-container\">\n",
              "      <div>\n",
              "<style scoped>\n",
              "    .dataframe tbody tr th:only-of-type {\n",
              "        vertical-align: middle;\n",
              "    }\n",
              "\n",
              "    .dataframe tbody tr th {\n",
              "        vertical-align: top;\n",
              "    }\n",
              "\n",
              "    .dataframe thead th {\n",
              "        text-align: right;\n",
              "    }\n",
              "</style>\n",
              "<table border=\"1\" class=\"dataframe\">\n",
              "  <thead>\n",
              "    <tr style=\"text-align: right;\">\n",
              "      <th></th>\n",
              "      <th>max_of_max_temp</th>\n",
              "      <th>mean_of_min_temp</th>\n",
              "      <th>min_of_min_temp</th>\n",
              "      <th>mean_accumulated_precipitation</th>\n",
              "      <th>mean_soil_moisture</th>\n",
              "      <th>index</th>\n",
              "    </tr>\n",
              "  </thead>\n",
              "  <tbody>\n",
              "    <tr>\n",
              "      <th>0</th>\n",
              "      <td>30.299999</td>\n",
              "      <td>12.2</td>\n",
              "      <td>4.3</td>\n",
              "      <td>85.199997</td>\n",
              "      <td>61.200001</td>\n",
              "      <td>935</td>\n",
              "    </tr>\n",
              "    <tr>\n",
              "      <th>1</th>\n",
              "      <td>31.299999</td>\n",
              "      <td>12.9</td>\n",
              "      <td>4.5</td>\n",
              "      <td>67.000000</td>\n",
              "      <td>53.299999</td>\n",
              "      <td>941</td>\n",
              "    </tr>\n",
              "    <tr>\n",
              "      <th>2</th>\n",
              "      <td>31.700001</td>\n",
              "      <td>10.6</td>\n",
              "      <td>2.5</td>\n",
              "      <td>68.000000</td>\n",
              "      <td>38.000000</td>\n",
              "      <td>944</td>\n",
              "    </tr>\n",
              "    <tr>\n",
              "      <th>3</th>\n",
              "      <td>31.700001</td>\n",
              "      <td>10.6</td>\n",
              "      <td>2.5</td>\n",
              "      <td>68.000000</td>\n",
              "      <td>38.000000</td>\n",
              "      <td>945</td>\n",
              "    </tr>\n",
              "    <tr>\n",
              "      <th>4</th>\n",
              "      <td>31.900000</td>\n",
              "      <td>12.2</td>\n",
              "      <td>3.8</td>\n",
              "      <td>63.099998</td>\n",
              "      <td>46.400002</td>\n",
              "      <td>980</td>\n",
              "    </tr>\n",
              "    <tr>\n",
              "      <th>...</th>\n",
              "      <td>...</td>\n",
              "      <td>...</td>\n",
              "      <td>...</td>\n",
              "      <td>...</td>\n",
              "      <td>...</td>\n",
              "      <td>...</td>\n",
              "    </tr>\n",
              "    <tr>\n",
              "      <th>9413</th>\n",
              "      <td>27.400000</td>\n",
              "      <td>7.1</td>\n",
              "      <td>0.0</td>\n",
              "      <td>73.400000</td>\n",
              "      <td>65.100000</td>\n",
              "      <td>193471</td>\n",
              "    </tr>\n",
              "    <tr>\n",
              "      <th>9414</th>\n",
              "      <td>30.400000</td>\n",
              "      <td>13.1</td>\n",
              "      <td>5.2</td>\n",
              "      <td>90.400000</td>\n",
              "      <td>72.600000</td>\n",
              "      <td>193473</td>\n",
              "    </tr>\n",
              "    <tr>\n",
              "      <th>9415</th>\n",
              "      <td>31.700000</td>\n",
              "      <td>10.6</td>\n",
              "      <td>2.5</td>\n",
              "      <td>68.000000</td>\n",
              "      <td>38.000000</td>\n",
              "      <td>193476</td>\n",
              "    </tr>\n",
              "    <tr>\n",
              "      <th>9416</th>\n",
              "      <td>28.200000</td>\n",
              "      <td>8.3</td>\n",
              "      <td>1.2</td>\n",
              "      <td>91.100000</td>\n",
              "      <td>62.700000</td>\n",
              "      <td>193477</td>\n",
              "    </tr>\n",
              "    <tr>\n",
              "      <th>9417</th>\n",
              "      <td>30.800000</td>\n",
              "      <td>13.1</td>\n",
              "      <td>5.0</td>\n",
              "      <td>84.000000</td>\n",
              "      <td>65.500000</td>\n",
              "      <td>193735</td>\n",
              "    </tr>\n",
              "  </tbody>\n",
              "</table>\n",
              "<p>9418 rows × 6 columns</p>\n",
              "</div>\n",
              "      <button class=\"colab-df-convert\" onclick=\"convertToInteractive('df-6bc74c65-2cc9-41e8-ab70-63455c9d4b0a')\"\n",
              "              title=\"Convert this dataframe to an interactive table.\"\n",
              "              style=\"display:none;\">\n",
              "        \n",
              "  <svg xmlns=\"http://www.w3.org/2000/svg\" height=\"24px\"viewBox=\"0 0 24 24\"\n",
              "       width=\"24px\">\n",
              "    <path d=\"M0 0h24v24H0V0z\" fill=\"none\"/>\n",
              "    <path d=\"M18.56 5.44l.94 2.06.94-2.06 2.06-.94-2.06-.94-.94-2.06-.94 2.06-2.06.94zm-11 1L8.5 8.5l.94-2.06 2.06-.94-2.06-.94L8.5 2.5l-.94 2.06-2.06.94zm10 10l.94 2.06.94-2.06 2.06-.94-2.06-.94-.94-2.06-.94 2.06-2.06.94z\"/><path d=\"M17.41 7.96l-1.37-1.37c-.4-.4-.92-.59-1.43-.59-.52 0-1.04.2-1.43.59L10.3 9.45l-7.72 7.72c-.78.78-.78 2.05 0 2.83L4 21.41c.39.39.9.59 1.41.59.51 0 1.02-.2 1.41-.59l7.78-7.78 2.81-2.81c.8-.78.8-2.07 0-2.86zM5.41 20L4 18.59l7.72-7.72 1.47 1.35L5.41 20z\"/>\n",
              "  </svg>\n",
              "      </button>\n",
              "      \n",
              "  <style>\n",
              "    .colab-df-container {\n",
              "      display:flex;\n",
              "      flex-wrap:wrap;\n",
              "      gap: 12px;\n",
              "    }\n",
              "\n",
              "    .colab-df-convert {\n",
              "      background-color: #E8F0FE;\n",
              "      border: none;\n",
              "      border-radius: 50%;\n",
              "      cursor: pointer;\n",
              "      display: none;\n",
              "      fill: #1967D2;\n",
              "      height: 32px;\n",
              "      padding: 0 0 0 0;\n",
              "      width: 32px;\n",
              "    }\n",
              "\n",
              "    .colab-df-convert:hover {\n",
              "      background-color: #E2EBFA;\n",
              "      box-shadow: 0px 1px 2px rgba(60, 64, 67, 0.3), 0px 1px 3px 1px rgba(60, 64, 67, 0.15);\n",
              "      fill: #174EA6;\n",
              "    }\n",
              "\n",
              "    [theme=dark] .colab-df-convert {\n",
              "      background-color: #3B4455;\n",
              "      fill: #D2E3FC;\n",
              "    }\n",
              "\n",
              "    [theme=dark] .colab-df-convert:hover {\n",
              "      background-color: #434B5C;\n",
              "      box-shadow: 0px 1px 3px 1px rgba(0, 0, 0, 0.15);\n",
              "      filter: drop-shadow(0px 1px 2px rgba(0, 0, 0, 0.3));\n",
              "      fill: #FFFFFF;\n",
              "    }\n",
              "  </style>\n",
              "\n",
              "      <script>\n",
              "        const buttonEl =\n",
              "          document.querySelector('#df-6bc74c65-2cc9-41e8-ab70-63455c9d4b0a button.colab-df-convert');\n",
              "        buttonEl.style.display =\n",
              "          google.colab.kernel.accessAllowed ? 'block' : 'none';\n",
              "\n",
              "        async function convertToInteractive(key) {\n",
              "          const element = document.querySelector('#df-6bc74c65-2cc9-41e8-ab70-63455c9d4b0a');\n",
              "          const dataTable =\n",
              "            await google.colab.kernel.invokeFunction('convertToInteractive',\n",
              "                                                     [key], {});\n",
              "          if (!dataTable) return;\n",
              "\n",
              "          const docLinkHtml = 'Like what you see? Visit the ' +\n",
              "            '<a target=\"_blank\" href=https://colab.research.google.com/notebooks/data_table.ipynb>data table notebook</a>'\n",
              "            + ' to learn more about interactive tables.';\n",
              "          element.innerHTML = '';\n",
              "          dataTable['output_type'] = 'display_data';\n",
              "          await google.colab.output.renderOutput(dataTable, element);\n",
              "          const docLink = document.createElement('div');\n",
              "          docLink.innerHTML = docLinkHtml;\n",
              "          element.appendChild(docLink);\n",
              "        }\n",
              "      </script>\n",
              "    </div>\n",
              "  </div>\n",
              "  "
            ]
          },
          "metadata": {},
          "execution_count": 41
        }
      ]
    },
    {
      "cell_type": "code",
      "source": [
        "data_path = 'drive/MyDrive/Biodiversity Dataset/occurrence.txt'"
      ],
      "metadata": {
        "id": "ABAhUC_NJwTH"
      },
      "execution_count": null,
      "outputs": []
    },
    {
      "cell_type": "code",
      "source": [
        "def filter_bbox(frogs, bbox):\n",
        "    frogs = frogs[lambda x: \n",
        "        (x.decimalLongitude >= bbox[0]) &\n",
        "        (x.decimalLatitude >= bbox[1]) &\n",
        "        (x.decimalLongitude <= bbox[2]) &\n",
        "        (x.decimalLatitude <= bbox[3])\n",
        "    ]\n",
        "    return frogs\n",
        "\n",
        "def get_frogs(file, year_range=None, bbox=None):\n",
        "    \"\"\"Returns the dataframe of all frog occurrences for the bounding box specified.\"\"\"\n",
        "    columns = [\n",
        "        'gbifID','eventDate','country','continent','stateProvince',\n",
        "        'decimalLatitude','decimalLongitude','species'\n",
        "    ]\n",
        "    country_names = {\n",
        "        'AU':'Australia', 'CR':'Costa Rica', 'ZA':'South Africa','MX':'Mexico','HN':'Honduras',\n",
        "        'MZ':'Mozambique','BW':'Botswana','MW':'Malawi','CO':'Colombia','PA':'Panama','NI':'Nicaragua',\n",
        "        'BZ':'Belize','ZW':'Zimbabwe','SZ':'Eswatini','ZM':'Zambia','GT':'Guatemala','LS':'Lesotho',\n",
        "        'SV':'El Salvador', 'AO':'Angola', np.nan:'unknown or invalid'\n",
        "    }\n",
        "    continent_names = {\n",
        "        'AU':'Australia', 'CR':'Central America', 'ZA':'Africa','MX':'Central America','HN':'Central America',\n",
        "        'MZ':'Africa','BW':'Africa','MW':'Africa','CO':'Central America','PA':'Central America',\n",
        "        'NI':'Central America','BZ':'Central America','ZW':'Africa','SZ':'Africa','ZM':'Africa',\n",
        "        'GT':'Central America','LS':'Africa','SV':'Central America','AO':'Africa', np.nan:'unknown or invalid' \n",
        "    }\n",
        "    frogs = (\n",
        "        pd.read_csv(data_path, sep='\\t', parse_dates=['eventDate'])\n",
        "        .assign(\n",
        "            country =  lambda x: x.countryCode.map(country_names),\n",
        "            continent =  lambda x: x.countryCode.map(continent_names),\n",
        "            species = lambda x: x.species.str.title()\n",
        "        )\n",
        "        [columns]\n",
        "    )\n",
        "    if year_range is not None:\n",
        "        frogs = frogs[lambda x: \n",
        "            (x.eventDate.dt.year >= year_range[0]) & \n",
        "            (x.eventDate.dt.year <= year_range[1])\n",
        "        ]\n",
        "    if bbox is not None:\n",
        "        frogs = filter_bbox(frogs, bbox)\n",
        "    return frogs"
      ],
      "metadata": {
        "id": "p-f7aYDeIIVi"
      },
      "execution_count": null,
      "outputs": []
    },
    {
      "cell_type": "code",
      "source": [
        "all_frog_data = get_frogs(data_path, year_range=(2015, 2019), bbox=bbox)\n",
        "all_frog_data"
      ],
      "metadata": {
        "colab": {
          "base_uri": "https://localhost:8080/",
          "height": 424
        },
        "id": "hX_a10LHKBZ8",
        "outputId": "a0b40df6-7a57-461c-8b6d-d9a4695ce251"
      },
      "execution_count": null,
      "outputs": [
        {
          "output_type": "execute_result",
          "data": {
            "text/plain": [
              "            gbifID  eventDate    country  continent    stateProvince  \\\n",
              "935     3108894201 2017-11-12  Australia  Australia  New South Wales   \n",
              "941     3108882429 2019-09-19  Australia  Australia  New South Wales   \n",
              "944     3108953063 2019-11-03  Australia  Australia  New South Wales   \n",
              "945     3108952573 2019-11-04  Australia  Australia  New South Wales   \n",
              "980     1452200212 2015-06-16  Australia  Australia  New South Wales   \n",
              "...            ...        ...        ...        ...              ...   \n",
              "193471  3108863070 2018-11-13  Australia  Australia  New South Wales   \n",
              "193473  3108900314 2019-10-30  Australia  Australia  New South Wales   \n",
              "193476  3108938525 2018-10-17  Australia  Australia  New South Wales   \n",
              "193477  3108845537 2019-10-15  Australia  Australia  New South Wales   \n",
              "193735  1653525892 2015-09-15  Australia  Australia  New South Wales   \n",
              "\n",
              "        decimalLatitude  decimalLongitude           species  \n",
              "935          -33.699881        151.043367    Litoria Fallax  \n",
              "941          -33.955790        150.976815  Crinia Signifera  \n",
              "944          -33.755278        150.623221    Litoria Fallax  \n",
              "945          -33.755291        150.623651    Litoria Fallax  \n",
              "980          -33.951844        150.870430    Litoria Fallax  \n",
              "...                 ...               ...               ...  \n",
              "193471       -33.474900        150.172000  Crinia Signifera  \n",
              "193473       -33.789908        151.131394    Litoria Fallax  \n",
              "193476       -33.757622        150.618240    Litoria Fallax  \n",
              "193477       -33.718800        150.385000  Crinia Signifera  \n",
              "193735       -33.767500        151.117917  Crinia Signifera  \n",
              "\n",
              "[9418 rows x 8 columns]"
            ],
            "text/html": [
              "\n",
              "  <div id=\"df-42c3ca23-d2e1-447e-b52c-9c42a6ce4be3\">\n",
              "    <div class=\"colab-df-container\">\n",
              "      <div>\n",
              "<style scoped>\n",
              "    .dataframe tbody tr th:only-of-type {\n",
              "        vertical-align: middle;\n",
              "    }\n",
              "\n",
              "    .dataframe tbody tr th {\n",
              "        vertical-align: top;\n",
              "    }\n",
              "\n",
              "    .dataframe thead th {\n",
              "        text-align: right;\n",
              "    }\n",
              "</style>\n",
              "<table border=\"1\" class=\"dataframe\">\n",
              "  <thead>\n",
              "    <tr style=\"text-align: right;\">\n",
              "      <th></th>\n",
              "      <th>gbifID</th>\n",
              "      <th>eventDate</th>\n",
              "      <th>country</th>\n",
              "      <th>continent</th>\n",
              "      <th>stateProvince</th>\n",
              "      <th>decimalLatitude</th>\n",
              "      <th>decimalLongitude</th>\n",
              "      <th>species</th>\n",
              "    </tr>\n",
              "  </thead>\n",
              "  <tbody>\n",
              "    <tr>\n",
              "      <th>935</th>\n",
              "      <td>3108894201</td>\n",
              "      <td>2017-11-12</td>\n",
              "      <td>Australia</td>\n",
              "      <td>Australia</td>\n",
              "      <td>New South Wales</td>\n",
              "      <td>-33.699881</td>\n",
              "      <td>151.043367</td>\n",
              "      <td>Litoria Fallax</td>\n",
              "    </tr>\n",
              "    <tr>\n",
              "      <th>941</th>\n",
              "      <td>3108882429</td>\n",
              "      <td>2019-09-19</td>\n",
              "      <td>Australia</td>\n",
              "      <td>Australia</td>\n",
              "      <td>New South Wales</td>\n",
              "      <td>-33.955790</td>\n",
              "      <td>150.976815</td>\n",
              "      <td>Crinia Signifera</td>\n",
              "    </tr>\n",
              "    <tr>\n",
              "      <th>944</th>\n",
              "      <td>3108953063</td>\n",
              "      <td>2019-11-03</td>\n",
              "      <td>Australia</td>\n",
              "      <td>Australia</td>\n",
              "      <td>New South Wales</td>\n",
              "      <td>-33.755278</td>\n",
              "      <td>150.623221</td>\n",
              "      <td>Litoria Fallax</td>\n",
              "    </tr>\n",
              "    <tr>\n",
              "      <th>945</th>\n",
              "      <td>3108952573</td>\n",
              "      <td>2019-11-04</td>\n",
              "      <td>Australia</td>\n",
              "      <td>Australia</td>\n",
              "      <td>New South Wales</td>\n",
              "      <td>-33.755291</td>\n",
              "      <td>150.623651</td>\n",
              "      <td>Litoria Fallax</td>\n",
              "    </tr>\n",
              "    <tr>\n",
              "      <th>980</th>\n",
              "      <td>1452200212</td>\n",
              "      <td>2015-06-16</td>\n",
              "      <td>Australia</td>\n",
              "      <td>Australia</td>\n",
              "      <td>New South Wales</td>\n",
              "      <td>-33.951844</td>\n",
              "      <td>150.870430</td>\n",
              "      <td>Litoria Fallax</td>\n",
              "    </tr>\n",
              "    <tr>\n",
              "      <th>...</th>\n",
              "      <td>...</td>\n",
              "      <td>...</td>\n",
              "      <td>...</td>\n",
              "      <td>...</td>\n",
              "      <td>...</td>\n",
              "      <td>...</td>\n",
              "      <td>...</td>\n",
              "      <td>...</td>\n",
              "    </tr>\n",
              "    <tr>\n",
              "      <th>193471</th>\n",
              "      <td>3108863070</td>\n",
              "      <td>2018-11-13</td>\n",
              "      <td>Australia</td>\n",
              "      <td>Australia</td>\n",
              "      <td>New South Wales</td>\n",
              "      <td>-33.474900</td>\n",
              "      <td>150.172000</td>\n",
              "      <td>Crinia Signifera</td>\n",
              "    </tr>\n",
              "    <tr>\n",
              "      <th>193473</th>\n",
              "      <td>3108900314</td>\n",
              "      <td>2019-10-30</td>\n",
              "      <td>Australia</td>\n",
              "      <td>Australia</td>\n",
              "      <td>New South Wales</td>\n",
              "      <td>-33.789908</td>\n",
              "      <td>151.131394</td>\n",
              "      <td>Litoria Fallax</td>\n",
              "    </tr>\n",
              "    <tr>\n",
              "      <th>193476</th>\n",
              "      <td>3108938525</td>\n",
              "      <td>2018-10-17</td>\n",
              "      <td>Australia</td>\n",
              "      <td>Australia</td>\n",
              "      <td>New South Wales</td>\n",
              "      <td>-33.757622</td>\n",
              "      <td>150.618240</td>\n",
              "      <td>Litoria Fallax</td>\n",
              "    </tr>\n",
              "    <tr>\n",
              "      <th>193477</th>\n",
              "      <td>3108845537</td>\n",
              "      <td>2019-10-15</td>\n",
              "      <td>Australia</td>\n",
              "      <td>Australia</td>\n",
              "      <td>New South Wales</td>\n",
              "      <td>-33.718800</td>\n",
              "      <td>150.385000</td>\n",
              "      <td>Crinia Signifera</td>\n",
              "    </tr>\n",
              "    <tr>\n",
              "      <th>193735</th>\n",
              "      <td>1653525892</td>\n",
              "      <td>2015-09-15</td>\n",
              "      <td>Australia</td>\n",
              "      <td>Australia</td>\n",
              "      <td>New South Wales</td>\n",
              "      <td>-33.767500</td>\n",
              "      <td>151.117917</td>\n",
              "      <td>Crinia Signifera</td>\n",
              "    </tr>\n",
              "  </tbody>\n",
              "</table>\n",
              "<p>9418 rows × 8 columns</p>\n",
              "</div>\n",
              "      <button class=\"colab-df-convert\" onclick=\"convertToInteractive('df-42c3ca23-d2e1-447e-b52c-9c42a6ce4be3')\"\n",
              "              title=\"Convert this dataframe to an interactive table.\"\n",
              "              style=\"display:none;\">\n",
              "        \n",
              "  <svg xmlns=\"http://www.w3.org/2000/svg\" height=\"24px\"viewBox=\"0 0 24 24\"\n",
              "       width=\"24px\">\n",
              "    <path d=\"M0 0h24v24H0V0z\" fill=\"none\"/>\n",
              "    <path d=\"M18.56 5.44l.94 2.06.94-2.06 2.06-.94-2.06-.94-.94-2.06-.94 2.06-2.06.94zm-11 1L8.5 8.5l.94-2.06 2.06-.94-2.06-.94L8.5 2.5l-.94 2.06-2.06.94zm10 10l.94 2.06.94-2.06 2.06-.94-2.06-.94-.94-2.06-.94 2.06-2.06.94z\"/><path d=\"M17.41 7.96l-1.37-1.37c-.4-.4-.92-.59-1.43-.59-.52 0-1.04.2-1.43.59L10.3 9.45l-7.72 7.72c-.78.78-.78 2.05 0 2.83L4 21.41c.39.39.9.59 1.41.59.51 0 1.02-.2 1.41-.59l7.78-7.78 2.81-2.81c.8-.78.8-2.07 0-2.86zM5.41 20L4 18.59l7.72-7.72 1.47 1.35L5.41 20z\"/>\n",
              "  </svg>\n",
              "      </button>\n",
              "      \n",
              "  <style>\n",
              "    .colab-df-container {\n",
              "      display:flex;\n",
              "      flex-wrap:wrap;\n",
              "      gap: 12px;\n",
              "    }\n",
              "\n",
              "    .colab-df-convert {\n",
              "      background-color: #E8F0FE;\n",
              "      border: none;\n",
              "      border-radius: 50%;\n",
              "      cursor: pointer;\n",
              "      display: none;\n",
              "      fill: #1967D2;\n",
              "      height: 32px;\n",
              "      padding: 0 0 0 0;\n",
              "      width: 32px;\n",
              "    }\n",
              "\n",
              "    .colab-df-convert:hover {\n",
              "      background-color: #E2EBFA;\n",
              "      box-shadow: 0px 1px 2px rgba(60, 64, 67, 0.3), 0px 1px 3px 1px rgba(60, 64, 67, 0.15);\n",
              "      fill: #174EA6;\n",
              "    }\n",
              "\n",
              "    [theme=dark] .colab-df-convert {\n",
              "      background-color: #3B4455;\n",
              "      fill: #D2E3FC;\n",
              "    }\n",
              "\n",
              "    [theme=dark] .colab-df-convert:hover {\n",
              "      background-color: #434B5C;\n",
              "      box-shadow: 0px 1px 3px 1px rgba(0, 0, 0, 0.15);\n",
              "      filter: drop-shadow(0px 1px 2px rgba(0, 0, 0, 0.3));\n",
              "      fill: #FFFFFF;\n",
              "    }\n",
              "  </style>\n",
              "\n",
              "      <script>\n",
              "        const buttonEl =\n",
              "          document.querySelector('#df-42c3ca23-d2e1-447e-b52c-9c42a6ce4be3 button.colab-df-convert');\n",
              "        buttonEl.style.display =\n",
              "          google.colab.kernel.accessAllowed ? 'block' : 'none';\n",
              "\n",
              "        async function convertToInteractive(key) {\n",
              "          const element = document.querySelector('#df-42c3ca23-d2e1-447e-b52c-9c42a6ce4be3');\n",
              "          const dataTable =\n",
              "            await google.colab.kernel.invokeFunction('convertToInteractive',\n",
              "                                                     [key], {});\n",
              "          if (!dataTable) return;\n",
              "\n",
              "          const docLinkHtml = 'Like what you see? Visit the ' +\n",
              "            '<a target=\"_blank\" href=https://colab.research.google.com/notebooks/data_table.ipynb>data table notebook</a>'\n",
              "            + ' to learn more about interactive tables.';\n",
              "          element.innerHTML = '';\n",
              "          dataTable['output_type'] = 'display_data';\n",
              "          await google.colab.output.renderOutput(dataTable, element);\n",
              "          const docLink = document.createElement('div');\n",
              "          docLink.innerHTML = docLinkHtml;\n",
              "          element.appendChild(docLink);\n",
              "        }\n",
              "      </script>\n",
              "    </div>\n",
              "  </div>\n",
              "  "
            ]
          },
          "metadata": {},
          "execution_count": 44
        }
      ]
    },
    {
      "cell_type": "code",
      "source": [
        "#gen_df['corelation_number'] = gen_df['index']\n",
        "#gen_df.drop(axis = 1, columns='index', inplace=True)\n",
        "\n",
        "gen_df.set_index('index', inplace=True)\n",
        "gen_df"
      ],
      "metadata": {
        "colab": {
          "base_uri": "https://localhost:8080/",
          "height": 455
        },
        "id": "9ZkmF7M0Lst7",
        "outputId": "1b15d979-bcac-439b-953e-0eadc2b583bf"
      },
      "execution_count": null,
      "outputs": [
        {
          "output_type": "execute_result",
          "data": {
            "text/plain": [
              "        max_of_max_temp  mean_of_min_temp  min_of_min_temp  \\\n",
              "index                                                        \n",
              "935           30.299999              12.2              4.3   \n",
              "941           31.299999              12.9              4.5   \n",
              "944           31.700001              10.6              2.5   \n",
              "945           31.700001              10.6              2.5   \n",
              "980           31.900000              12.2              3.8   \n",
              "...                 ...               ...              ...   \n",
              "193471        27.400000               7.1              0.0   \n",
              "193473        30.400000              13.1              5.2   \n",
              "193476        31.700000              10.6              2.5   \n",
              "193477        28.200000               8.3              1.2   \n",
              "193735        30.800000              13.1              5.0   \n",
              "\n",
              "        mean_accumulated_precipitation  mean_soil_moisture  \n",
              "index                                                       \n",
              "935                          85.199997           61.200001  \n",
              "941                          67.000000           53.299999  \n",
              "944                          68.000000           38.000000  \n",
              "945                          68.000000           38.000000  \n",
              "980                          63.099998           46.400002  \n",
              "...                                ...                 ...  \n",
              "193471                       73.400000           65.100000  \n",
              "193473                       90.400000           72.600000  \n",
              "193476                       68.000000           38.000000  \n",
              "193477                       91.100000           62.700000  \n",
              "193735                       84.000000           65.500000  \n",
              "\n",
              "[9418 rows x 5 columns]"
            ],
            "text/html": [
              "\n",
              "  <div id=\"df-cc28a026-bb66-423a-a2f1-250fc529f99d\">\n",
              "    <div class=\"colab-df-container\">\n",
              "      <div>\n",
              "<style scoped>\n",
              "    .dataframe tbody tr th:only-of-type {\n",
              "        vertical-align: middle;\n",
              "    }\n",
              "\n",
              "    .dataframe tbody tr th {\n",
              "        vertical-align: top;\n",
              "    }\n",
              "\n",
              "    .dataframe thead th {\n",
              "        text-align: right;\n",
              "    }\n",
              "</style>\n",
              "<table border=\"1\" class=\"dataframe\">\n",
              "  <thead>\n",
              "    <tr style=\"text-align: right;\">\n",
              "      <th></th>\n",
              "      <th>max_of_max_temp</th>\n",
              "      <th>mean_of_min_temp</th>\n",
              "      <th>min_of_min_temp</th>\n",
              "      <th>mean_accumulated_precipitation</th>\n",
              "      <th>mean_soil_moisture</th>\n",
              "    </tr>\n",
              "    <tr>\n",
              "      <th>index</th>\n",
              "      <th></th>\n",
              "      <th></th>\n",
              "      <th></th>\n",
              "      <th></th>\n",
              "      <th></th>\n",
              "    </tr>\n",
              "  </thead>\n",
              "  <tbody>\n",
              "    <tr>\n",
              "      <th>935</th>\n",
              "      <td>30.299999</td>\n",
              "      <td>12.2</td>\n",
              "      <td>4.3</td>\n",
              "      <td>85.199997</td>\n",
              "      <td>61.200001</td>\n",
              "    </tr>\n",
              "    <tr>\n",
              "      <th>941</th>\n",
              "      <td>31.299999</td>\n",
              "      <td>12.9</td>\n",
              "      <td>4.5</td>\n",
              "      <td>67.000000</td>\n",
              "      <td>53.299999</td>\n",
              "    </tr>\n",
              "    <tr>\n",
              "      <th>944</th>\n",
              "      <td>31.700001</td>\n",
              "      <td>10.6</td>\n",
              "      <td>2.5</td>\n",
              "      <td>68.000000</td>\n",
              "      <td>38.000000</td>\n",
              "    </tr>\n",
              "    <tr>\n",
              "      <th>945</th>\n",
              "      <td>31.700001</td>\n",
              "      <td>10.6</td>\n",
              "      <td>2.5</td>\n",
              "      <td>68.000000</td>\n",
              "      <td>38.000000</td>\n",
              "    </tr>\n",
              "    <tr>\n",
              "      <th>980</th>\n",
              "      <td>31.900000</td>\n",
              "      <td>12.2</td>\n",
              "      <td>3.8</td>\n",
              "      <td>63.099998</td>\n",
              "      <td>46.400002</td>\n",
              "    </tr>\n",
              "    <tr>\n",
              "      <th>...</th>\n",
              "      <td>...</td>\n",
              "      <td>...</td>\n",
              "      <td>...</td>\n",
              "      <td>...</td>\n",
              "      <td>...</td>\n",
              "    </tr>\n",
              "    <tr>\n",
              "      <th>193471</th>\n",
              "      <td>27.400000</td>\n",
              "      <td>7.1</td>\n",
              "      <td>0.0</td>\n",
              "      <td>73.400000</td>\n",
              "      <td>65.100000</td>\n",
              "    </tr>\n",
              "    <tr>\n",
              "      <th>193473</th>\n",
              "      <td>30.400000</td>\n",
              "      <td>13.1</td>\n",
              "      <td>5.2</td>\n",
              "      <td>90.400000</td>\n",
              "      <td>72.600000</td>\n",
              "    </tr>\n",
              "    <tr>\n",
              "      <th>193476</th>\n",
              "      <td>31.700000</td>\n",
              "      <td>10.6</td>\n",
              "      <td>2.5</td>\n",
              "      <td>68.000000</td>\n",
              "      <td>38.000000</td>\n",
              "    </tr>\n",
              "    <tr>\n",
              "      <th>193477</th>\n",
              "      <td>28.200000</td>\n",
              "      <td>8.3</td>\n",
              "      <td>1.2</td>\n",
              "      <td>91.100000</td>\n",
              "      <td>62.700000</td>\n",
              "    </tr>\n",
              "    <tr>\n",
              "      <th>193735</th>\n",
              "      <td>30.800000</td>\n",
              "      <td>13.1</td>\n",
              "      <td>5.0</td>\n",
              "      <td>84.000000</td>\n",
              "      <td>65.500000</td>\n",
              "    </tr>\n",
              "  </tbody>\n",
              "</table>\n",
              "<p>9418 rows × 5 columns</p>\n",
              "</div>\n",
              "      <button class=\"colab-df-convert\" onclick=\"convertToInteractive('df-cc28a026-bb66-423a-a2f1-250fc529f99d')\"\n",
              "              title=\"Convert this dataframe to an interactive table.\"\n",
              "              style=\"display:none;\">\n",
              "        \n",
              "  <svg xmlns=\"http://www.w3.org/2000/svg\" height=\"24px\"viewBox=\"0 0 24 24\"\n",
              "       width=\"24px\">\n",
              "    <path d=\"M0 0h24v24H0V0z\" fill=\"none\"/>\n",
              "    <path d=\"M18.56 5.44l.94 2.06.94-2.06 2.06-.94-2.06-.94-.94-2.06-.94 2.06-2.06.94zm-11 1L8.5 8.5l.94-2.06 2.06-.94-2.06-.94L8.5 2.5l-.94 2.06-2.06.94zm10 10l.94 2.06.94-2.06 2.06-.94-2.06-.94-.94-2.06-.94 2.06-2.06.94z\"/><path d=\"M17.41 7.96l-1.37-1.37c-.4-.4-.92-.59-1.43-.59-.52 0-1.04.2-1.43.59L10.3 9.45l-7.72 7.72c-.78.78-.78 2.05 0 2.83L4 21.41c.39.39.9.59 1.41.59.51 0 1.02-.2 1.41-.59l7.78-7.78 2.81-2.81c.8-.78.8-2.07 0-2.86zM5.41 20L4 18.59l7.72-7.72 1.47 1.35L5.41 20z\"/>\n",
              "  </svg>\n",
              "      </button>\n",
              "      \n",
              "  <style>\n",
              "    .colab-df-container {\n",
              "      display:flex;\n",
              "      flex-wrap:wrap;\n",
              "      gap: 12px;\n",
              "    }\n",
              "\n",
              "    .colab-df-convert {\n",
              "      background-color: #E8F0FE;\n",
              "      border: none;\n",
              "      border-radius: 50%;\n",
              "      cursor: pointer;\n",
              "      display: none;\n",
              "      fill: #1967D2;\n",
              "      height: 32px;\n",
              "      padding: 0 0 0 0;\n",
              "      width: 32px;\n",
              "    }\n",
              "\n",
              "    .colab-df-convert:hover {\n",
              "      background-color: #E2EBFA;\n",
              "      box-shadow: 0px 1px 2px rgba(60, 64, 67, 0.3), 0px 1px 3px 1px rgba(60, 64, 67, 0.15);\n",
              "      fill: #174EA6;\n",
              "    }\n",
              "\n",
              "    [theme=dark] .colab-df-convert {\n",
              "      background-color: #3B4455;\n",
              "      fill: #D2E3FC;\n",
              "    }\n",
              "\n",
              "    [theme=dark] .colab-df-convert:hover {\n",
              "      background-color: #434B5C;\n",
              "      box-shadow: 0px 1px 3px 1px rgba(0, 0, 0, 0.15);\n",
              "      filter: drop-shadow(0px 1px 2px rgba(0, 0, 0, 0.3));\n",
              "      fill: #FFFFFF;\n",
              "    }\n",
              "  </style>\n",
              "\n",
              "      <script>\n",
              "        const buttonEl =\n",
              "          document.querySelector('#df-cc28a026-bb66-423a-a2f1-250fc529f99d button.colab-df-convert');\n",
              "        buttonEl.style.display =\n",
              "          google.colab.kernel.accessAllowed ? 'block' : 'none';\n",
              "\n",
              "        async function convertToInteractive(key) {\n",
              "          const element = document.querySelector('#df-cc28a026-bb66-423a-a2f1-250fc529f99d');\n",
              "          const dataTable =\n",
              "            await google.colab.kernel.invokeFunction('convertToInteractive',\n",
              "                                                     [key], {});\n",
              "          if (!dataTable) return;\n",
              "\n",
              "          const docLinkHtml = 'Like what you see? Visit the ' +\n",
              "            '<a target=\"_blank\" href=https://colab.research.google.com/notebooks/data_table.ipynb>data table notebook</a>'\n",
              "            + ' to learn more about interactive tables.';\n",
              "          element.innerHTML = '';\n",
              "          dataTable['output_type'] = 'display_data';\n",
              "          await google.colab.output.renderOutput(dataTable, element);\n",
              "          const docLink = document.createElement('div');\n",
              "          docLink.innerHTML = docLinkHtml;\n",
              "          element.appendChild(docLink);\n",
              "        }\n",
              "      </script>\n",
              "    </div>\n",
              "  </div>\n",
              "  "
            ]
          },
          "metadata": {},
          "execution_count": 45
        }
      ]
    },
    {
      "cell_type": "code",
      "source": [
        "all_frog_data['index'] = all_frog_data.index\n",
        "all_frog_data.set_index('index', inplace=True)\n",
        "all_frog_data"
      ],
      "metadata": {
        "colab": {
          "base_uri": "https://localhost:8080/",
          "height": 455
        },
        "id": "skb2sNKJN6cV",
        "outputId": "2a2bc960-f9ba-449b-f956-b5a5f66947c3"
      },
      "execution_count": null,
      "outputs": [
        {
          "output_type": "execute_result",
          "data": {
            "text/plain": [
              "            gbifID  eventDate    country  continent    stateProvince  \\\n",
              "index                                                                  \n",
              "935     3108894201 2017-11-12  Australia  Australia  New South Wales   \n",
              "941     3108882429 2019-09-19  Australia  Australia  New South Wales   \n",
              "944     3108953063 2019-11-03  Australia  Australia  New South Wales   \n",
              "945     3108952573 2019-11-04  Australia  Australia  New South Wales   \n",
              "980     1452200212 2015-06-16  Australia  Australia  New South Wales   \n",
              "...            ...        ...        ...        ...              ...   \n",
              "193471  3108863070 2018-11-13  Australia  Australia  New South Wales   \n",
              "193473  3108900314 2019-10-30  Australia  Australia  New South Wales   \n",
              "193476  3108938525 2018-10-17  Australia  Australia  New South Wales   \n",
              "193477  3108845537 2019-10-15  Australia  Australia  New South Wales   \n",
              "193735  1653525892 2015-09-15  Australia  Australia  New South Wales   \n",
              "\n",
              "        decimalLatitude  decimalLongitude           species  \n",
              "index                                                        \n",
              "935          -33.699881        151.043367    Litoria Fallax  \n",
              "941          -33.955790        150.976815  Crinia Signifera  \n",
              "944          -33.755278        150.623221    Litoria Fallax  \n",
              "945          -33.755291        150.623651    Litoria Fallax  \n",
              "980          -33.951844        150.870430    Litoria Fallax  \n",
              "...                 ...               ...               ...  \n",
              "193471       -33.474900        150.172000  Crinia Signifera  \n",
              "193473       -33.789908        151.131394    Litoria Fallax  \n",
              "193476       -33.757622        150.618240    Litoria Fallax  \n",
              "193477       -33.718800        150.385000  Crinia Signifera  \n",
              "193735       -33.767500        151.117917  Crinia Signifera  \n",
              "\n",
              "[9418 rows x 8 columns]"
            ],
            "text/html": [
              "\n",
              "  <div id=\"df-03bea7f4-d736-4bc4-bd1d-432399a4cb54\">\n",
              "    <div class=\"colab-df-container\">\n",
              "      <div>\n",
              "<style scoped>\n",
              "    .dataframe tbody tr th:only-of-type {\n",
              "        vertical-align: middle;\n",
              "    }\n",
              "\n",
              "    .dataframe tbody tr th {\n",
              "        vertical-align: top;\n",
              "    }\n",
              "\n",
              "    .dataframe thead th {\n",
              "        text-align: right;\n",
              "    }\n",
              "</style>\n",
              "<table border=\"1\" class=\"dataframe\">\n",
              "  <thead>\n",
              "    <tr style=\"text-align: right;\">\n",
              "      <th></th>\n",
              "      <th>gbifID</th>\n",
              "      <th>eventDate</th>\n",
              "      <th>country</th>\n",
              "      <th>continent</th>\n",
              "      <th>stateProvince</th>\n",
              "      <th>decimalLatitude</th>\n",
              "      <th>decimalLongitude</th>\n",
              "      <th>species</th>\n",
              "    </tr>\n",
              "    <tr>\n",
              "      <th>index</th>\n",
              "      <th></th>\n",
              "      <th></th>\n",
              "      <th></th>\n",
              "      <th></th>\n",
              "      <th></th>\n",
              "      <th></th>\n",
              "      <th></th>\n",
              "      <th></th>\n",
              "    </tr>\n",
              "  </thead>\n",
              "  <tbody>\n",
              "    <tr>\n",
              "      <th>935</th>\n",
              "      <td>3108894201</td>\n",
              "      <td>2017-11-12</td>\n",
              "      <td>Australia</td>\n",
              "      <td>Australia</td>\n",
              "      <td>New South Wales</td>\n",
              "      <td>-33.699881</td>\n",
              "      <td>151.043367</td>\n",
              "      <td>Litoria Fallax</td>\n",
              "    </tr>\n",
              "    <tr>\n",
              "      <th>941</th>\n",
              "      <td>3108882429</td>\n",
              "      <td>2019-09-19</td>\n",
              "      <td>Australia</td>\n",
              "      <td>Australia</td>\n",
              "      <td>New South Wales</td>\n",
              "      <td>-33.955790</td>\n",
              "      <td>150.976815</td>\n",
              "      <td>Crinia Signifera</td>\n",
              "    </tr>\n",
              "    <tr>\n",
              "      <th>944</th>\n",
              "      <td>3108953063</td>\n",
              "      <td>2019-11-03</td>\n",
              "      <td>Australia</td>\n",
              "      <td>Australia</td>\n",
              "      <td>New South Wales</td>\n",
              "      <td>-33.755278</td>\n",
              "      <td>150.623221</td>\n",
              "      <td>Litoria Fallax</td>\n",
              "    </tr>\n",
              "    <tr>\n",
              "      <th>945</th>\n",
              "      <td>3108952573</td>\n",
              "      <td>2019-11-04</td>\n",
              "      <td>Australia</td>\n",
              "      <td>Australia</td>\n",
              "      <td>New South Wales</td>\n",
              "      <td>-33.755291</td>\n",
              "      <td>150.623651</td>\n",
              "      <td>Litoria Fallax</td>\n",
              "    </tr>\n",
              "    <tr>\n",
              "      <th>980</th>\n",
              "      <td>1452200212</td>\n",
              "      <td>2015-06-16</td>\n",
              "      <td>Australia</td>\n",
              "      <td>Australia</td>\n",
              "      <td>New South Wales</td>\n",
              "      <td>-33.951844</td>\n",
              "      <td>150.870430</td>\n",
              "      <td>Litoria Fallax</td>\n",
              "    </tr>\n",
              "    <tr>\n",
              "      <th>...</th>\n",
              "      <td>...</td>\n",
              "      <td>...</td>\n",
              "      <td>...</td>\n",
              "      <td>...</td>\n",
              "      <td>...</td>\n",
              "      <td>...</td>\n",
              "      <td>...</td>\n",
              "      <td>...</td>\n",
              "    </tr>\n",
              "    <tr>\n",
              "      <th>193471</th>\n",
              "      <td>3108863070</td>\n",
              "      <td>2018-11-13</td>\n",
              "      <td>Australia</td>\n",
              "      <td>Australia</td>\n",
              "      <td>New South Wales</td>\n",
              "      <td>-33.474900</td>\n",
              "      <td>150.172000</td>\n",
              "      <td>Crinia Signifera</td>\n",
              "    </tr>\n",
              "    <tr>\n",
              "      <th>193473</th>\n",
              "      <td>3108900314</td>\n",
              "      <td>2019-10-30</td>\n",
              "      <td>Australia</td>\n",
              "      <td>Australia</td>\n",
              "      <td>New South Wales</td>\n",
              "      <td>-33.789908</td>\n",
              "      <td>151.131394</td>\n",
              "      <td>Litoria Fallax</td>\n",
              "    </tr>\n",
              "    <tr>\n",
              "      <th>193476</th>\n",
              "      <td>3108938525</td>\n",
              "      <td>2018-10-17</td>\n",
              "      <td>Australia</td>\n",
              "      <td>Australia</td>\n",
              "      <td>New South Wales</td>\n",
              "      <td>-33.757622</td>\n",
              "      <td>150.618240</td>\n",
              "      <td>Litoria Fallax</td>\n",
              "    </tr>\n",
              "    <tr>\n",
              "      <th>193477</th>\n",
              "      <td>3108845537</td>\n",
              "      <td>2019-10-15</td>\n",
              "      <td>Australia</td>\n",
              "      <td>Australia</td>\n",
              "      <td>New South Wales</td>\n",
              "      <td>-33.718800</td>\n",
              "      <td>150.385000</td>\n",
              "      <td>Crinia Signifera</td>\n",
              "    </tr>\n",
              "    <tr>\n",
              "      <th>193735</th>\n",
              "      <td>1653525892</td>\n",
              "      <td>2015-09-15</td>\n",
              "      <td>Australia</td>\n",
              "      <td>Australia</td>\n",
              "      <td>New South Wales</td>\n",
              "      <td>-33.767500</td>\n",
              "      <td>151.117917</td>\n",
              "      <td>Crinia Signifera</td>\n",
              "    </tr>\n",
              "  </tbody>\n",
              "</table>\n",
              "<p>9418 rows × 8 columns</p>\n",
              "</div>\n",
              "      <button class=\"colab-df-convert\" onclick=\"convertToInteractive('df-03bea7f4-d736-4bc4-bd1d-432399a4cb54')\"\n",
              "              title=\"Convert this dataframe to an interactive table.\"\n",
              "              style=\"display:none;\">\n",
              "        \n",
              "  <svg xmlns=\"http://www.w3.org/2000/svg\" height=\"24px\"viewBox=\"0 0 24 24\"\n",
              "       width=\"24px\">\n",
              "    <path d=\"M0 0h24v24H0V0z\" fill=\"none\"/>\n",
              "    <path d=\"M18.56 5.44l.94 2.06.94-2.06 2.06-.94-2.06-.94-.94-2.06-.94 2.06-2.06.94zm-11 1L8.5 8.5l.94-2.06 2.06-.94-2.06-.94L8.5 2.5l-.94 2.06-2.06.94zm10 10l.94 2.06.94-2.06 2.06-.94-2.06-.94-.94-2.06-.94 2.06-2.06.94z\"/><path d=\"M17.41 7.96l-1.37-1.37c-.4-.4-.92-.59-1.43-.59-.52 0-1.04.2-1.43.59L10.3 9.45l-7.72 7.72c-.78.78-.78 2.05 0 2.83L4 21.41c.39.39.9.59 1.41.59.51 0 1.02-.2 1.41-.59l7.78-7.78 2.81-2.81c.8-.78.8-2.07 0-2.86zM5.41 20L4 18.59l7.72-7.72 1.47 1.35L5.41 20z\"/>\n",
              "  </svg>\n",
              "      </button>\n",
              "      \n",
              "  <style>\n",
              "    .colab-df-container {\n",
              "      display:flex;\n",
              "      flex-wrap:wrap;\n",
              "      gap: 12px;\n",
              "    }\n",
              "\n",
              "    .colab-df-convert {\n",
              "      background-color: #E8F0FE;\n",
              "      border: none;\n",
              "      border-radius: 50%;\n",
              "      cursor: pointer;\n",
              "      display: none;\n",
              "      fill: #1967D2;\n",
              "      height: 32px;\n",
              "      padding: 0 0 0 0;\n",
              "      width: 32px;\n",
              "    }\n",
              "\n",
              "    .colab-df-convert:hover {\n",
              "      background-color: #E2EBFA;\n",
              "      box-shadow: 0px 1px 2px rgba(60, 64, 67, 0.3), 0px 1px 3px 1px rgba(60, 64, 67, 0.15);\n",
              "      fill: #174EA6;\n",
              "    }\n",
              "\n",
              "    [theme=dark] .colab-df-convert {\n",
              "      background-color: #3B4455;\n",
              "      fill: #D2E3FC;\n",
              "    }\n",
              "\n",
              "    [theme=dark] .colab-df-convert:hover {\n",
              "      background-color: #434B5C;\n",
              "      box-shadow: 0px 1px 3px 1px rgba(0, 0, 0, 0.15);\n",
              "      filter: drop-shadow(0px 1px 2px rgba(0, 0, 0, 0.3));\n",
              "      fill: #FFFFFF;\n",
              "    }\n",
              "  </style>\n",
              "\n",
              "      <script>\n",
              "        const buttonEl =\n",
              "          document.querySelector('#df-03bea7f4-d736-4bc4-bd1d-432399a4cb54 button.colab-df-convert');\n",
              "        buttonEl.style.display =\n",
              "          google.colab.kernel.accessAllowed ? 'block' : 'none';\n",
              "\n",
              "        async function convertToInteractive(key) {\n",
              "          const element = document.querySelector('#df-03bea7f4-d736-4bc4-bd1d-432399a4cb54');\n",
              "          const dataTable =\n",
              "            await google.colab.kernel.invokeFunction('convertToInteractive',\n",
              "                                                     [key], {});\n",
              "          if (!dataTable) return;\n",
              "\n",
              "          const docLinkHtml = 'Like what you see? Visit the ' +\n",
              "            '<a target=\"_blank\" href=https://colab.research.google.com/notebooks/data_table.ipynb>data table notebook</a>'\n",
              "            + ' to learn more about interactive tables.';\n",
              "          element.innerHTML = '';\n",
              "          dataTable['output_type'] = 'display_data';\n",
              "          await google.colab.output.renderOutput(dataTable, element);\n",
              "          const docLink = document.createElement('div');\n",
              "          docLink.innerHTML = docLinkHtml;\n",
              "          element.appendChild(docLink);\n",
              "        }\n",
              "      </script>\n",
              "    </div>\n",
              "  </div>\n",
              "  "
            ]
          },
          "metadata": {},
          "execution_count": 52
        }
      ]
    },
    {
      "cell_type": "code",
      "source": [
        "#all_gathered_data = pd.merge(all_frog_data, gen_df, on='index')\n",
        "\n",
        "all_gathered_data\n",
        "\n",
        "all_gathered_data.to_csv('drive/MyDrive/Biodiversity Dataset/frog_terraclimate_dataset.csv')"
      ],
      "metadata": {
        "id": "D0bZyQmFLIbw"
      },
      "execution_count": null,
      "outputs": []
    },
    {
      "cell_type": "code",
      "source": [
        "#Custom Encoder\n",
        "def customEncoder(value):\n",
        "  if value == 'Litoria Fallax':\n",
        "    return 1\n",
        "  else:\n",
        "    return 0"
      ],
      "metadata": {
        "id": "8kxeN--qQXne"
      },
      "execution_count": null,
      "outputs": []
    },
    {
      "cell_type": "code",
      "source": [
        "from sklearn.preprocessing import LabelEncoder\n",
        "from sklearn.preprocessing import StandardScaler\n",
        "enc = LabelEncoder()\n",
        "\n",
        "Y = all_gathered_data.species\n",
        "X = all_gathered_data.drop(columns={'eventDate', 'country', 'continent', 'stateProvince', 'gbifID', 'species'})\n",
        "\n",
        "#Encode the species series\n",
        "Y = [customEncoder(value) for value in Y]\n"
      ],
      "metadata": {
        "id": "7vSLOLiGPSrq"
      },
      "execution_count": null,
      "outputs": []
    },
    {
      "cell_type": "code",
      "source": [
        "from sklearn.model_selection import train_test_split\n",
        "\n",
        "X_train, X_test, y_train, y_test = train_test_split(X, Y, test_size=0.33, random_state=65)"
      ],
      "metadata": {
        "id": "4U-jsh-9O4QN"
      },
      "execution_count": null,
      "outputs": []
    },
    {
      "cell_type": "markdown",
      "source": [
        "#SMOTE implementation"
      ],
      "metadata": {
        "id": "Bq0jUd-qRefH"
      }
    },
    {
      "cell_type": "code",
      "source": [
        "# Import SMOTE and make object\n",
        "from imblearn.over_sampling import SMOTE\n",
        "sampler = SMOTE(random_state=0)"
      ],
      "metadata": {
        "id": "mHcl2siKO4h4"
      },
      "execution_count": null,
      "outputs": []
    },
    {
      "cell_type": "code",
      "source": [
        "# SMOTE New X_train and New y_train variables\n",
        "X_train_smote, y_train_smote = sampler.fit_resample(X_train,y_train)"
      ],
      "metadata": {
        "id": "CB54Umu_O4kQ"
      },
      "execution_count": null,
      "outputs": []
    },
    {
      "cell_type": "markdown",
      "source": [
        "#OSS Implementation Minority Class Undersample\n"
      ],
      "metadata": {
        "id": "cc8b64TpXlgi"
      }
    },
    {
      "cell_type": "code",
      "source": [
        "from imblearn.under_sampling import OneSidedSelection\n",
        "\n",
        "undersample = OneSidedSelection(n_neighbors=1, n_seeds_S=100)\n",
        "\n",
        "X_train_oss, y_train_oss = undersample.fit_resample(X_train, y_train)"
      ],
      "metadata": {
        "id": "gPINYIZfaNhF"
      },
      "execution_count": null,
      "outputs": []
    },
    {
      "cell_type": "markdown",
      "source": [
        "#SMOTE Implementation Majority Class Decrease"
      ],
      "metadata": {
        "id": "dWZO0uIaXzet"
      }
    },
    {
      "cell_type": "code",
      "source": [
        "from imblearn.combine import SMOTEENN\n",
        "smt = SMOTEENN(random_state=42)\n",
        "X_train_smoteen, y_train_smoteen = smt.fit_resample(X_train,y_train)"
      ],
      "metadata": {
        "id": "rmiaR1omXxRH"
      },
      "execution_count": null,
      "outputs": []
    },
    {
      "cell_type": "code",
      "source": [
        "from sklearn.linear_model import LogisticRegression\n",
        "from sklearn.metrics import f1_score, accuracy_score, ConfusionMatrixDisplay\n",
        "from sklearn.model_selection import StratifiedKFold\n",
        "from sklearn.model_selection import KFold"
      ],
      "metadata": {
        "id": "CJ0cfLbQqg8A"
      },
      "execution_count": null,
      "outputs": []
    },
    {
      "cell_type": "code",
      "source": [
        "# Machine Learning\n",
        "from sklearn.linear_model import LogisticRegression\n",
        "from sklearn.metrics import f1_score, accuracy_score, ConfusionMatrixDisplay\n",
        "from sklearn.model_selection import StratifiedKFold\n",
        "from sklearn.model_selection import KFold"
      ],
      "metadata": {
        "id": "IwEvNwizSgr8"
      },
      "execution_count": null,
      "outputs": []
    },
    {
      "cell_type": "markdown",
      "source": [
        "#KNN Neighbors"
      ],
      "metadata": {
        "id": "RhO75ThuSTeg"
      }
    },
    {
      "cell_type": "code",
      "source": [
        "def knnClassifier(X_train, y_train, X_test, y_test):\n",
        "  knn_model = KNeighborsClassifier(\n",
        "      algorithm= 'ball_tree',\n",
        "      leaf_size= 10,\n",
        "      metric='euclidean',\n",
        "      n_neighbors= 5,\n",
        "      weights= 'distance'\n",
        "  )\n",
        "\n",
        "  knn_model.fit(X_train,y_train) # Smote is applied only to training datasets\n",
        "\n",
        "  y_predict_knn = knn_model.predict(X_test)\n",
        "\n",
        "  print('Accuracy Score: {}'.format(accuracy_score(y_test,y_predict_knn)))\n",
        "  print('F1 Score: {}'.format(f1_score(y_predict_knn, y_test, average='binary')))\n",
        "  #cv=KFold(n_splits=10, random_state=1, shuffle=True)\n",
        "  #use k-fold CV to evaluate model\n",
        "  scores = cross_val_score(knn_model, X_test, y_test, scoring='neg_mean_absolute_error',\n",
        "                          cv=KFold(n_splits=10, random_state=1, shuffle=True), n_jobs=-1)\n",
        "\n",
        "\n",
        "  #view mean absolute error\n",
        "  print('CV Score: {}'.format(mean(absolute(scores))))\n",
        "\n",
        "\n"
      ],
      "metadata": {
        "id": "G2maHIGBpRJP"
      },
      "execution_count": null,
      "outputs": []
    },
    {
      "cell_type": "code",
      "source": [
        "#kf = KFold(4, n_folds=2)"
      ],
      "metadata": {
        "id": "sBM6jLgsT4XK"
      },
      "execution_count": null,
      "outputs": []
    },
    {
      "cell_type": "code",
      "source": [
        "from sklearn.neighbors import KNeighborsClassifier\n",
        "\n",
        "knnClassifier(X_train_smoteen, y_train_smoteen, X_test, y_test)"
      ],
      "metadata": {
        "colab": {
          "base_uri": "https://localhost:8080/"
        },
        "id": "8DGrPzXsO4mv",
        "outputId": "2a9e72e2-2b9a-49ed-f6f4-a840c088ddfb"
      },
      "execution_count": null,
      "outputs": [
        {
          "output_type": "stream",
          "name": "stdout",
          "text": [
            "Accuracy Score: 0.8008365508365508\n",
            "F1 Score: 0.7119590507212656\n",
            "CV Score: 0.18050513432216575\n"
          ]
        }
      ]
    },
    {
      "cell_type": "code",
      "source": [
        "from sklearn.model_selection import GridSearchCV\n",
        "\n",
        "grid_search = GridSearchCV(KNeighborsClassifier(),\n",
        "                           {\n",
        "                              'n_neighbors':np.arange(5, 100, 5),\n",
        "                              'algorithm': ['ball_tree', 'kd_tree', 'brute'],\n",
        "                              'weights': ['uniform', 'distance'],\n",
        "                              'leaf_size': np.arange(10, 50, 10),\n",
        "                              #'p': [1, 2],\n",
        "                              'metric': ['euclidean', 'seuclidean']\n",
        "                              #'max_features':np.arange(0.1,1.0,0.05),\n",
        "                            \n",
        "                            },cv=5, scoring=\"r2\",verbose=1,n_jobs=-1\n",
        "                           )\n",
        "grid_search.fit(X_train_smoteen,y_train_smoteen)\n",
        "\n",
        "grid_search.best_params_"
      ],
      "metadata": {
        "colab": {
          "base_uri": "https://localhost:8080/"
        },
        "id": "pLlzGb-tiu0i",
        "outputId": "7633350e-7ddf-4657-c349-d80010b9a9e4"
      },
      "execution_count": null,
      "outputs": [
        {
          "output_type": "stream",
          "name": "stdout",
          "text": [
            "Fitting 5 folds for each of 912 candidates, totalling 4560 fits\n"
          ]
        },
        {
          "output_type": "execute_result",
          "data": {
            "text/plain": [
              "{'algorithm': 'ball_tree',\n",
              " 'leaf_size': 10,\n",
              " 'metric': 'euclidean',\n",
              " 'n_neighbors': 5,\n",
              " 'weights': 'distance'}"
            ]
          },
          "metadata": {},
          "execution_count": 146
        }
      ]
    },
    {
      "cell_type": "markdown",
      "source": [
        "KFold Check for Model Overfitting"
      ],
      "metadata": {
        "id": "_Byoi3n0Vs_z"
      }
    },
    {
      "cell_type": "code",
      "source": [
        "from sklearn.model_selection import cross_val_score\n",
        "from numpy import mean\n",
        "from numpy import absolute\n",
        "from numpy import sqrt\n",
        "\n",
        "cv = KFold(n_splits=10, random_state=1, shuffle=True)\n",
        "\n",
        "#use k-fold CV to evaluate model\n",
        "scores = cross_val_score(knn_model, X_test, y_test, scoring='neg_mean_absolute_error',\n",
        "                         cv=cv, n_jobs=-1)\n",
        "\n",
        "\n",
        "#view mean absolute error\n",
        "mean(absolute(scores))"
      ],
      "metadata": {
        "colab": {
          "base_uri": "https://localhost:8080/"
        },
        "id": "7XH17FJQO4pZ",
        "outputId": "14fb4ece-98ea-4b35-cfb7-39f804f4d0e0"
      },
      "execution_count": null,
      "outputs": [
        {
          "output_type": "execute_result",
          "data": {
            "text/plain": [
              "0.2010963592988279"
            ]
          },
          "metadata": {},
          "execution_count": 105
        }
      ]
    },
    {
      "cell_type": "markdown",
      "source": [
        "#Logistic Regression"
      ],
      "metadata": {
        "id": "uBAtvRtfV8l6"
      }
    },
    {
      "cell_type": "code",
      "source": [
        "from sklearn.linear_model import LogisticRegression\n",
        "\n",
        "logistic_regression_model = LogisticRegression(\n",
        "    solver = 'liblinear',\n",
        "    fit_intercept = True,\n",
        "    C = 1.0\n",
        ")\n",
        "\n",
        "logistic_regression_model.fit(X_train_oss, y_train_oss)\n",
        "\n",
        "Y_predict_logistic = logistic_regression_model.predict(\n",
        "    X_test\n",
        ")\n",
        "\n",
        "print(accuracy_score(y_test,Y_predict_logistic))\n",
        "print(f1_score(Y_predict_logistic, y_test, average='binary'))"
      ],
      "metadata": {
        "colab": {
          "base_uri": "https://localhost:8080/"
        },
        "id": "ZhnE6wj_V11V",
        "outputId": "2e3a1d53-03f6-4df6-ad41-3b9d470ea336"
      },
      "execution_count": null,
      "outputs": [
        {
          "output_type": "stream",
          "name": "stdout",
          "text": [
            "0.7474259974259975\n",
            "0.5352279455298994\n"
          ]
        }
      ]
    },
    {
      "cell_type": "code",
      "source": [
        "scores = cross_val_score(logistic_regression_model, X_test, y_test, scoring='neg_mean_absolute_error',\n",
        "                         cv=cv, n_jobs=-1)\n",
        "\n",
        "\n",
        "#view mean absolute error\n",
        "mean(absolute(scores))"
      ],
      "metadata": {
        "colab": {
          "base_uri": "https://localhost:8080/"
        },
        "id": "e193trPmWMAU",
        "outputId": "807764de-1f6e-43c2-8318-b89cbba6d27b"
      },
      "execution_count": null,
      "outputs": [
        {
          "output_type": "execute_result",
          "data": {
            "text/plain": [
              "0.23775956850949073"
            ]
          },
          "metadata": {},
          "execution_count": 107
        }
      ]
    },
    {
      "cell_type": "markdown",
      "source": [
        "#Random Forest Classifier"
      ],
      "metadata": {
        "id": "o2ShZqccWQsn"
      }
    },
    {
      "cell_type": "code",
      "source": [
        "from sklearn.ensemble import RandomForestClassifier\n",
        "\n",
        "RFC = RandomForestClassifier(\n",
        "    n_estimators=100,\n",
        "    min_samples_leaf=2\n",
        "    #ccp_alpha=0.0 #By default no pruning occurs.\n",
        ")\n",
        "\n",
        "RFC.fit(X_train_oss, y_train_oss)\n",
        "\n",
        "Y_predict_RFC = RFC.predict(\n",
        "    X_test\n",
        ")\n",
        "\n",
        "print(accuracy_score(y_test,Y_predict_RFC))\n",
        "print(f1_score(Y_predict_RFC, y_test, average='binary'))"
      ],
      "metadata": {
        "colab": {
          "base_uri": "https://localhost:8080/"
        },
        "id": "HAcF8TawWS4D",
        "outputId": "a9b8cd70-0cec-4a93-cdfc-d18305bba84a"
      },
      "execution_count": null,
      "outputs": [
        {
          "output_type": "stream",
          "name": "stdout",
          "text": [
            "0.8194980694980695\n",
            "0.7136294027565083\n"
          ]
        }
      ]
    },
    {
      "cell_type": "code",
      "source": [
        "scores = cross_val_score(RFC, X_test, y_test, scoring='neg_mean_absolute_error',\n",
        "                         cv=cv, n_jobs=-1)\n",
        "\n",
        "\n",
        "#view mean absolute error\n",
        "mean(absolute(scores))"
      ],
      "metadata": {
        "colab": {
          "base_uri": "https://localhost:8080/"
        },
        "id": "Z2Hkyu4nWTMo",
        "outputId": "3abe61c3-8ab0-4a3b-dc6b-5d5ece86811d"
      },
      "execution_count": null,
      "outputs": [
        {
          "output_type": "execute_result",
          "data": {
            "text/plain": [
              "0.18404522352453065"
            ]
          },
          "metadata": {},
          "execution_count": 110
        }
      ]
    }
  ]
}